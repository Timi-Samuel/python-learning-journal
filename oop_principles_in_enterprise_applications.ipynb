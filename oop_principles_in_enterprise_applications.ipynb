{
 "cells": [
  {
   "cell_type": "markdown",
   "id": "ec4a03a1",
   "metadata": {},
   "source": [
    "# OOP Principles in Enterprise Applications Exercises\n",
    "* Polymorphism\n",
    "* Encapsulation\n",
    "* Composition\n",
    "* Inheritance\n",
    "* Abstract Class\n",
    "* Metaclasses"
   ]
  },
  {
   "cell_type": "markdown",
   "id": "4c2517fb",
   "metadata": {},
   "source": [
    "## Polymorphism\n",
    "Polymorphism in OOP means “many forms” — it allows different classes to define methods with the same name but behave differently depending on the object."
   ]
  },
  {
   "cell_type": "markdown",
   "id": "f89c152a",
   "metadata": {},
   "source": [
    "### Exercise 1:\n",
    "* Create abstract class `Employee` with abstract method `work`. \n",
    "* Create `Developer` and `Manager` subclasses and implement `work`. \n",
    "* Call `employee_work(employee)` on both."
   ]
  },
  {
   "cell_type": "code",
   "execution_count": 1,
   "id": "80a02daf",
   "metadata": {},
   "outputs": [],
   "source": [
    "from abc import ABC,abstractmethod\n",
    "\n",
    "class Employee(ABC):\n",
    "    @abstractmethod\n",
    "    def work(self):\n",
    "        pass\n",
    "\n",
    "class Developer(Employee):\n",
    "    def work(self):\n",
    "        return 'Write code...'\n",
    "    \n",
    "class Manager(Employee):\n",
    "    def work(self):\n",
    "        return 'Manage developers...'\n",
    "    \n",
    "developer = Developer()\n",
    "manager = Manager()"
   ]
  },
  {
   "cell_type": "code",
   "execution_count": 2,
   "id": "0e877de8",
   "metadata": {},
   "outputs": [
    {
     "name": "stdout",
     "output_type": "stream",
     "text": [
      "Write code...\n",
      "Manage developers...\n"
     ]
    }
   ],
   "source": [
    "print(developer.work())\n",
    "print(manager.work())"
   ]
  },
  {
   "cell_type": "markdown",
   "id": "761f0679",
   "metadata": {},
   "source": [
    "### Exercise 2:\n",
    "* Create classes `Dog` and `Cat`, each with method `make_sound`. \n",
    "* Write a function that takes an animal and calls `make_sound`."
   ]
  },
  {
   "cell_type": "code",
   "execution_count": 4,
   "id": "b4fe1362",
   "metadata": {},
   "outputs": [],
   "source": [
    "from abc import ABC,abstractmethod\n",
    "\n",
    "class Pet(ABC):\n",
    "    @abstractmethod\n",
    "    def make_sound(self):\n",
    "        pass\n",
    "\n",
    "class Dog(Pet):\n",
    "    def make_sound(self):\n",
    "        return 'bark bark....'\n",
    "    \n",
    "class Cat(Pet):\n",
    "    def make_sound(self):\n",
    "        return 'meowwwwwww....'"
   ]
  },
  {
   "cell_type": "code",
   "execution_count": 6,
   "id": "0a482e6b",
   "metadata": {},
   "outputs": [
    {
     "name": "stdout",
     "output_type": "stream",
     "text": [
      "The dog says: bark bark....\n"
     ]
    }
   ],
   "source": [
    "pet_options = {\n",
    "    \"dog\": Dog,\n",
    "    \"cat\": Cat\n",
    "}\n",
    "choice = input(\"Choose a pet (dog/cat): \").lower()\n",
    "if choice in pet_options:\n",
    "    pet = pet_options[choice]()  # create an instance of the chosen pet\n",
    "    print(f\"The {choice} says: {pet.make_sound()}\")\n",
    "else:\n",
    "    print(\"Invalid choice!\")"
   ]
  },
  {
   "cell_type": "markdown",
   "id": "96989db3",
   "metadata": {},
   "source": [
    "### Exercise 3:\n",
    "* Implement a `Shape` class with method `area`. \n",
    "* Create `Rectangle` and `Circle` subclasses that override `area`."
   ]
  },
  {
   "cell_type": "code",
   "execution_count": null,
   "id": "e79c83d6",
   "metadata": {},
   "outputs": [],
   "source": [
    "from abc import ABC,abstractmethod\n",
    "import math\n",
    "\n",
    "class Shape(ABC):\n",
    "    @abstractmethod\n",
    "    def area(self):\n",
    "        pass\n",
    "\n",
    "class Rectangle(Shape):\n",
    "    def area(self):\n",
    "        side1 = int(input(\"Enter length of rectangle: \"))\n",
    "        side2 = int(input(\"Enter width of rectangle:  \"))\n",
    "        if side1!=side2:\n",
    "            area = side1*side2\n",
    "        else:\n",
    "            return(\"Rectangles do not have the same length on all sides\")\n",
    "        return f'The area of this rectangle is: {area}'\n",
    "\n",
    "class Circle(Shape):\n",
    "    def area(self):\n",
    "        radius = int(input(\"Enter length of radius: \"))\n",
    "        area = math.pi* (radius**2)\n",
    "        return f\"The are of this circle is {area}\"\n",
    "    "
   ]
  },
  {
   "cell_type": "code",
   "execution_count": 20,
   "id": "8a5252bf",
   "metadata": {},
   "outputs": [
    {
     "name": "stdout",
     "output_type": "stream",
     "text": [
      "Rectangles do not have the same length on adacent sides\n"
     ]
    }
   ],
   "source": [
    "shape_options = {'circle': Circle, 'rectangle': Rectangle}\n",
    "choice = input(\"Circle or rectangle: \").lower()\n",
    "if choice in shape_options:\n",
    "    shape = shape_options[choice]()\n",
    "    print(shape.area())\n",
    "else:\n",
    "    print(\"Invalid choice!\")"
   ]
  },
  {
   "cell_type": "markdown",
   "id": "1571c8a5",
   "metadata": {},
   "source": [
    "### Exercise 4:\n",
    "* Create `Printer` class with method `print_document`. \n",
    "* Create `LaserPrinter` and `InkjetPrinter` subclasses and override `print_document`. \n",
    "* Demonstrate polymorphic calls."
   ]
  },
  {
   "cell_type": "code",
   "execution_count": 24,
   "id": "9bb9b159",
   "metadata": {},
   "outputs": [],
   "source": [
    "from abc import ABC,abstractmethod\n",
    "class Printer(ABC):\n",
    "    @abstractmethod\n",
    "    def print_document(self):\n",
    "        pass\n",
    "    \n",
    "class LaserPrinter(Printer):\n",
    "    def print_document(self):\n",
    "        print(\"I was printed by LaserPrinter\")\n",
    "    \n",
    "class InkjetPrinter(Printer):\n",
    "    def print_document(self):\n",
    "        print('I was printed by InkjetPrinter')"
   ]
  },
  {
   "cell_type": "code",
   "execution_count": 25,
   "id": "8fe1cfb3",
   "metadata": {},
   "outputs": [
    {
     "name": "stdout",
     "output_type": "stream",
     "text": [
      "I was printed by LaserPrinter\n"
     ]
    }
   ],
   "source": [
    "printers = {'laser':LaserPrinter, 'ink': InkjetPrinter}\n",
    "\n",
    "choice = input(\"Laser or ink: \").lower()\n",
    "if choice in printers:\n",
    "    printer = printers[choice]()\n",
    "    printer.print_document()"
   ]
  },
  {
   "cell_type": "markdown",
   "id": "d36d3256",
   "metadata": {},
   "source": [
    "## Encapsulation\n",
    "Encapsulation in OOP is the principle of `bundling data (variables) and methods (functions) that operate on that data into a single unit (a class)`, while restricting direct access to some of the object's components."
   ]
  },
  {
   "cell_type": "markdown",
   "id": "fb4f2c04",
   "metadata": {},
   "source": [
    "### Exercise 1:\n",
    "* Create a `BankAccount` class with `__balance` as a private attribute. \n",
    "* Implement `deposit` and `withdraw` methods, and a `get_balance` method to access the balance."
   ]
  },
  {
   "cell_type": "code",
   "execution_count": 2,
   "id": "e762c7cb",
   "metadata": {},
   "outputs": [],
   "source": [
    "class BankAccount:\n",
    "    def __init__(self):\n",
    "        self.__balance = 0\n",
    "    \n",
    "    def deposit(self,amount):\n",
    "        self.__balance += amount\n",
    "        print(f\"Deposited {amount}. New balance: {self.__balance}\")\n",
    "        \n",
    "    def get_balance(self):\n",
    "        return self.__balance\n",
    "    \n",
    "    def withdraw(self, amount):\n",
    "        if amount> self.__balance:\n",
    "            print(f\"Insufficient funds. Current balance: {self.__balance}\")\n",
    "            return\n",
    "        elif amount<=self.__balance:\n",
    "            self.__balance -= amount\n",
    "            print(f\"Withdrew {amount}. New balance: {self.__balance}\")\n",
    "            return"
   ]
  },
  {
   "cell_type": "code",
   "execution_count": 6,
   "id": "72b91d10",
   "metadata": {},
   "outputs": [
    {
     "name": "stdout",
     "output_type": "stream",
     "text": [
      "Deposited 500. New balance: 500\n",
      "Deposited 60. New balance: 560\n",
      "Deposited 700. New balance: 1260\n",
      "Insufficient funds. Current balance: 1260\n"
     ]
    }
   ],
   "source": [
    "timiaccount = BankAccount()\n",
    "timiaccount.deposit(500)\n",
    "timiaccount.deposit(60)\n",
    "timiaccount.deposit(700)\n",
    "timiaccount.withdraw(2000)"
   ]
  },
  {
   "cell_type": "code",
   "execution_count": 7,
   "id": "75e3236f",
   "metadata": {},
   "outputs": [
    {
     "name": "stdout",
     "output_type": "stream",
     "text": [
      "1260\n"
     ]
    }
   ],
   "source": [
    "timiaccount.__balance = 100000 # will not work because __balance cannot be accessed from outside the class\n",
    "print(timiaccount.get_balance())"
   ]
  },
  {
   "cell_type": "markdown",
   "id": "2db55461",
   "metadata": {},
   "source": [
    "### Exercise 2:\n",
    "* Create a `Product` class with `__price` and `__stock` as private attributes. \n",
    "* Implement methods to update price and stock safely."
   ]
  },
  {
   "cell_type": "code",
   "execution_count": 40,
   "id": "986a6409",
   "metadata": {},
   "outputs": [],
   "source": [
    "class Product:\n",
    "    def __init__(self):\n",
    "        self.__price = 0\n",
    "        self.__stock = 0\n",
    "        \n",
    "    def update_price(self,new_price):\n",
    "        self.__price = new_price\n",
    "        print(f\"Price updated. New price for product: R{self.__price}\")\n",
    "        return\n",
    "    \n",
    "    def update_stock(self,new_stock):\n",
    "        self.__stock = new_stock\n",
    "        print(f\"Stock updated. New stock qty: {self.__stock}\")\n",
    "        return\n",
    "    \n",
    "    def get_stock(self):\n",
    "        return self.__stock\n",
    "    \n",
    "    def get_price(self):\n",
    "        return self.__price"
   ]
  },
  {
   "cell_type": "code",
   "execution_count": 46,
   "id": "2c881391",
   "metadata": {},
   "outputs": [
    {
     "name": "stdout",
     "output_type": "stream",
     "text": [
      "Stock updated. New stock qty: 1200\n",
      "Price updated. New price for product: R20\n",
      "20\n",
      "1200\n"
     ]
    }
   ],
   "source": [
    "milk = Product()\n",
    "milk.update_stock(1200)\n",
    "milk.update_price(20)\n",
    "print(milk.get_price())\n",
    "print(milk.get_stock())\n"
   ]
  },
  {
   "cell_type": "markdown",
   "id": "901cdcf1",
   "metadata": {},
   "source": [
    "### Exercise 3:\n",
    "* Implement a `Student` class with private attribute `__grades`. \n",
    "* Provide methods `add_grade` and `average_grade` to manage it."
   ]
  },
  {
   "cell_type": "code",
   "execution_count": 50,
   "id": "f6fa751d",
   "metadata": {},
   "outputs": [],
   "source": [
    "class Student:\n",
    "    def __init__(self):\n",
    "        self.__grades = []\n",
    "        \n",
    "    def add_grade(self,new_grade):\n",
    "        self.__grades.append(new_grade)\n",
    "        print(\"New grade added\")\n",
    "        return\n",
    "    \n",
    "    def average_grade(self):\n",
    "        if len(self.__grades)<1:\n",
    "            return 0\n",
    "        average = sum(self.__grades)/len(self.__grades)\n",
    "        return average\n",
    "    \n",
    "    def get_grades(self):\n",
    "        return self.__grades"
   ]
  },
  {
   "cell_type": "code",
   "execution_count": null,
   "id": "38e4929a",
   "metadata": {},
   "outputs": [
    {
     "name": "stdout",
     "output_type": "stream",
     "text": [
      "[]\n"
     ]
    }
   ],
   "source": [
    "timi = Student()\n",
    "\n"
   ]
  },
  {
   "cell_type": "code",
   "execution_count": 58,
   "id": "fdb8bc1a",
   "metadata": {},
   "outputs": [
    {
     "name": "stdout",
     "output_type": "stream",
     "text": [
      "[50, 70]\n"
     ]
    }
   ],
   "source": [
    "grades = timi.get_grades()\n",
    "print(grades)"
   ]
  },
  {
   "cell_type": "code",
   "execution_count": 57,
   "id": "a050aa48",
   "metadata": {},
   "outputs": [
    {
     "name": "stdout",
     "output_type": "stream",
     "text": [
      "New grade added\n"
     ]
    }
   ],
   "source": [
    "timi.add_grade(70)"
   ]
  },
  {
   "cell_type": "code",
   "execution_count": 59,
   "id": "701610fe",
   "metadata": {},
   "outputs": [
    {
     "name": "stdout",
     "output_type": "stream",
     "text": [
      "60.0\n"
     ]
    }
   ],
   "source": [
    "ave =timi.average_grade()\n",
    "print(ave)"
   ]
  },
  {
   "cell_type": "markdown",
   "id": "d0d9a3cd",
   "metadata": {},
   "source": [
    "### Exercise 4:\n",
    "* Create a `Car` class with private attribute `__fuel_level`. \n",
    "* Add methods to `refuel`, `drive`, and `check_fuel`."
   ]
  },
  {
   "cell_type": "code",
   "execution_count": 67,
   "id": "a93447de",
   "metadata": {},
   "outputs": [],
   "source": [
    "import time\n",
    "\n",
    "class Car:\n",
    "    def __init__(self):\n",
    "        self.__fuel = 'Tank is full'\n",
    "    \n",
    "    def drive(self):\n",
    "        print(\"Driving...\")\n",
    "        time.sleep(1.3)\n",
    "        self.__fuel = 'Tank is empty'\n",
    "        print(self.__fuel)\n",
    "        return\n",
    "    \n",
    "    def check_fuel(self):\n",
    "        print(self.__fuel)\n",
    "        return\n",
    "    \n",
    "    def refuel(self):\n",
    "        print(\"Refueling...\")\n",
    "        time.sleep(1.3)\n",
    "        self.__fuel = 'Tank is full'\n",
    "        print(self.__fuel)\n",
    "        return"
   ]
  },
  {
   "cell_type": "code",
   "execution_count": 68,
   "id": "0f6ef1c5",
   "metadata": {},
   "outputs": [],
   "source": [
    "car1 = Car()"
   ]
  },
  {
   "cell_type": "code",
   "execution_count": 78,
   "id": "346d0f62",
   "metadata": {},
   "outputs": [
    {
     "name": "stdout",
     "output_type": "stream",
     "text": [
      "Tank is full\n"
     ]
    }
   ],
   "source": [
    "car1.check_fuel()"
   ]
  },
  {
   "cell_type": "code",
   "execution_count": 75,
   "id": "5f4e54ef",
   "metadata": {},
   "outputs": [
    {
     "name": "stdout",
     "output_type": "stream",
     "text": [
      "Driving...\n",
      "Tank is empty\n"
     ]
    }
   ],
   "source": [
    "car1.drive()"
   ]
  },
  {
   "cell_type": "code",
   "execution_count": 77,
   "id": "d67a7806",
   "metadata": {},
   "outputs": [
    {
     "name": "stdout",
     "output_type": "stream",
     "text": [
      "Refueling...\n",
      "Tank is full\n"
     ]
    }
   ],
   "source": [
    "car1.refuel()"
   ]
  },
  {
   "cell_type": "markdown",
   "id": "07bc94a0",
   "metadata": {},
   "source": [
    "## Composition\n",
    "Composition in OOP is a design principle where one class is built by combining objects of other classes, rather than inheriting from them."
   ]
  },
  {
   "cell_type": "markdown",
   "id": "daa4d3b5",
   "metadata": {},
   "source": [
    "### Exercise 1:\n",
    "* Create a `Company` class with an `Address` object as an attribute. \n",
    "* Initialize a company with a `name` and `address`, then print the full address."
   ]
  },
  {
   "cell_type": "code",
   "execution_count": 3,
   "id": "a2c7ec9d",
   "metadata": {},
   "outputs": [],
   "source": [
    "class Company:\n",
    "    def __init__(self,name,address):\n",
    "        self.name = name\n",
    "        self.address = address\n",
    "        \n",
    "class Address:\n",
    "    def __init__(self,street,town):\n",
    "        self.town =town\n",
    "        self.street = street\n",
    "        \n",
    "myadd = Address('59 Short Street', \" WonderLand\")\n",
    "mycomp = Company(\"WebDev\",myadd)"
   ]
  },
  {
   "cell_type": "code",
   "execution_count": 4,
   "id": "810fda76",
   "metadata": {},
   "outputs": [
    {
     "name": "stdout",
     "output_type": "stream",
     "text": [
      "Company: WebDev, Address: 59 Short Street, WonderLand\n"
     ]
    }
   ],
   "source": [
    "print(f\"Company: {mycomp.name}, Address: {mycomp.address.street},{mycomp.address.town}\")"
   ]
  },
  {
   "cell_type": "markdown",
   "id": "3bf2f5e3",
   "metadata": {},
   "source": [
    "### Exercise 2:\n",
    "* Implement a `Car` class with `Engine` as a component. \n",
    "* Allow the car to call `engine.start()`."
   ]
  },
  {
   "cell_type": "code",
   "execution_count": 82,
   "id": "384ba7f1",
   "metadata": {},
   "outputs": [],
   "source": [
    "import time\n",
    "class Car:\n",
    "    def __init__(self,engine):\n",
    "        self.engine = engine\n",
    "    \n",
    "    def start(self):\n",
    "        self.engine.start()\n",
    "        \n",
    "class Engine:\n",
    "    def start(self):\n",
    "        print(\"Starting engine...\")\n",
    "        time.sleep(2)\n",
    "        print(\"Engine started:)\")"
   ]
  },
  {
   "cell_type": "code",
   "execution_count": 83,
   "id": "8334c9a8",
   "metadata": {},
   "outputs": [],
   "source": [
    "engine = Engine()\n",
    "car = Car(engine)"
   ]
  },
  {
   "cell_type": "code",
   "execution_count": 85,
   "id": "b799b57f",
   "metadata": {},
   "outputs": [
    {
     "name": "stdout",
     "output_type": "stream",
     "text": [
      "Starting engine...\n",
      "Engine started:)\n"
     ]
    }
   ],
   "source": [
    "car.start()"
   ]
  },
  {
   "cell_type": "markdown",
   "id": "388b781a",
   "metadata": {},
   "source": [
    "### Exercise 3:\n",
    "* Create a `Library` class containing a list of `Book` objects. \n",
    "* Add a method to display all book titles."
   ]
  },
  {
   "cell_type": "code",
   "execution_count": 92,
   "id": "763418a2",
   "metadata": {},
   "outputs": [],
   "source": [
    "class Book:\n",
    "    def __init__(self,title):\n",
    "        self.title = title\n",
    "\n",
    "class Library:\n",
    "    def __init__(self,books):\n",
    "        self.books = books\n",
    "    \n",
    "    def display_titles(self):\n",
    "        for book in self.books:\n",
    "            print(book.title)\n",
    "        \n",
    "book1 =Book(\"Book1\")\n",
    "book2 = Book(\"Book2\")\n",
    "book3 = Book(\"Book3\")\n",
    "books = [book1,book2,book3]\n",
    "\n",
    "library = Library(books)"
   ]
  },
  {
   "cell_type": "code",
   "execution_count": 93,
   "id": "ac06a380",
   "metadata": {},
   "outputs": [
    {
     "name": "stdout",
     "output_type": "stream",
     "text": [
      "Book1\n",
      "Book2\n",
      "Book3\n"
     ]
    }
   ],
   "source": [
    "library.display_titles()"
   ]
  },
  {
   "cell_type": "markdown",
   "id": "8561d1e6",
   "metadata": {},
   "source": [
    "### Exercise 4:\n",
    "* Create a `Team` class with a list of `Employee` objects. \n",
    "* Implement a method `team_work` that calls `work()` for each employee."
   ]
  },
  {
   "cell_type": "code",
   "execution_count": 98,
   "id": "af0c6184",
   "metadata": {},
   "outputs": [],
   "source": [
    "class Team:\n",
    "    def __init__(self,employees):\n",
    "        self.employees = employees\n",
    "    \n",
    "    def team_work(self):\n",
    "        for i in self.employees:\n",
    "            i.work()\n",
    "    \n",
    "class Employee:\n",
    "    def __init__(self,name):\n",
    "        self.name =name\n",
    "        \n",
    "    def work(self):\n",
    "        print(f\"{self.name} is working...\")\n",
    "        \n",
    "emp1 = Employee('Jake')\n",
    "emp2 = Employee('Jimmy')\n",
    "emp3 = Employee('Jack')\n",
    "\n",
    "employees = [emp1,emp2,emp3]\n",
    "\n",
    "team = Team(employees)"
   ]
  },
  {
   "cell_type": "code",
   "execution_count": 99,
   "id": "0348b35c",
   "metadata": {},
   "outputs": [
    {
     "name": "stdout",
     "output_type": "stream",
     "text": [
      "Jake is working...\n",
      "Jimmy is working...\n",
      "Jack is working...\n"
     ]
    }
   ],
   "source": [
    "team.team_work()"
   ]
  },
  {
   "cell_type": "markdown",
   "id": "78603912",
   "metadata": {},
   "source": [
    "## Inheritance\n",
    "Inheritance in OOP is a principle where a class (child/subclass) can reuse and extend the properties and behaviors of another class (parent/superclass)."
   ]
  },
  {
   "cell_type": "markdown",
   "id": "432c118f",
   "metadata": {},
   "source": [
    "### Exercise 1:\n",
    "* Implement a `Person` class with `name` and `age`, then subclass `Employee` adding `salary`. \n",
    "* Override `greet()` to include salary info."
   ]
  },
  {
   "cell_type": "code",
   "execution_count": 5,
   "id": "4ae64db4",
   "metadata": {},
   "outputs": [],
   "source": [
    "class Person:\n",
    "    def __init__(self,name,age):\n",
    "        self.name = name\n",
    "        self.age = age\n",
    "        \n",
    "    def greet(self):\n",
    "        return f\"Hello, I'm {self.name}. I am {self.age} years old.\"\n",
    "    \n",
    "class Employee(Person):\n",
    "    def __init__(self,name,age,salary):\n",
    "        super().__init__(name,age)\n",
    "        self.salary = salary\n",
    "        \n",
    "    def greet(self):\n",
    "        return super().greet() + f\" I earn R{self.salary}\"\n",
    "        \n",
    "\n",
    "employee = Employee(\"Timi\",20,20.02)"
   ]
  },
  {
   "cell_type": "code",
   "execution_count": 6,
   "id": "e00ce7c2",
   "metadata": {},
   "outputs": [
    {
     "name": "stdout",
     "output_type": "stream",
     "text": [
      "Hello, I'm Timi. I am 20 years old. I earn R20.02\n"
     ]
    }
   ],
   "source": [
    "print(employee.greet())"
   ]
  },
  {
   "cell_type": "markdown",
   "id": "be612403",
   "metadata": {},
   "source": [
    "### Exercise 2:\n",
    "* Create a `Vehicle` class with method `start_engine`. \n",
    "* Subclass `Car` and `Motorbike`, overriding `start_engine` for each."
   ]
  },
  {
   "cell_type": "code",
   "execution_count": 13,
   "id": "6a351879",
   "metadata": {},
   "outputs": [],
   "source": [
    "class Vehicle:\n",
    "    def start_engine(self):\n",
    "        return \"Starting\"\n",
    "    \n",
    "class Car(Vehicle):\n",
    "    def start_engine(self):\n",
    "        return super().start_engine() + ' Car...'\n",
    "    \n",
    "class Motorbike(Vehicle):\n",
    "    def start_engine(self):\n",
    "        return super().start_engine() + \" Motorbike...\""
   ]
  },
  {
   "cell_type": "code",
   "execution_count": 14,
   "id": "d111dda2",
   "metadata": {},
   "outputs": [
    {
     "name": "stdout",
     "output_type": "stream",
     "text": [
      "Starting Motorbike...\n",
      "Starting Car...\n"
     ]
    }
   ],
   "source": [
    "car = Car()\n",
    "bike = Motorbike()\n",
    "\n",
    "print(bike.start_engine())\n",
    "print(car.start_engine())"
   ]
  },
  {
   "cell_type": "markdown",
   "id": "f6c200b3",
   "metadata": {},
   "source": [
    "### Exercise 3:\n",
    "* Implement a `Shape` class with `colour` attribute. \n",
    "* Subclass `Circle` and `Rectangle` to add specific attributes like radius, width, and height."
   ]
  },
  {
   "cell_type": "code",
   "execution_count": null,
   "id": "e9b611ab",
   "metadata": {},
   "outputs": [],
   "source": [
    "import math\n",
    "class Shape:\n",
    "    def __init__(self,colour):\n",
    "        self.colour = colour\n",
    "        \n",
    "class Circle(Shape):\n",
    "    def __init__(self,colour,radius):\n",
    "        super().__init__(colour)\n",
    "        self.radius = radius\n",
    "        \n",
    "    def area(self):\n",
    "        area = math.pi * self.radius**2\n",
    "        return area\n",
    "        \n",
    "class Rectangle(Shape):\n",
    "    def __init__(self,colour,width,height):\n",
    "        super().__init__(colour)\n",
    "        self.width = width\n",
    "        self.height = height\n",
    "        \n",
    "    def area(self):\n",
    "        area = self.height * self.width\n",
    "        return area\n",
    "    \n",
    "circle = Circle('blue',5)\n",
    "rectangle = Rectangle('red',5,7)"
   ]
  },
  {
   "cell_type": "code",
   "execution_count": 18,
   "id": "92301fc1",
   "metadata": {},
   "outputs": [
    {
     "name": "stdout",
     "output_type": "stream",
     "text": [
      "35\n",
      "red\n"
     ]
    }
   ],
   "source": [
    "print(rectangle.area())\n",
    "print(rectangle.colour)"
   ]
  },
  {
   "cell_type": "code",
   "execution_count": 19,
   "id": "c0f51b7f",
   "metadata": {},
   "outputs": [
    {
     "name": "stdout",
     "output_type": "stream",
     "text": [
      "78.53981633974483\n",
      "blue\n"
     ]
    }
   ],
   "source": [
    "print(circle.area())\n",
    "print(circle.colour)"
   ]
  },
  {
   "cell_type": "markdown",
   "id": "67444703",
   "metadata": {},
   "source": [
    "### Exercise 4:\n",
    "* Create a `Customer` class inheriting from `Person`, add `customer_id` and a method to display info."
   ]
  },
  {
   "cell_type": "code",
   "execution_count": 22,
   "id": "4b8d89ed",
   "metadata": {},
   "outputs": [],
   "source": [
    "class Person:\n",
    "    def __init__(self,name,address,contact):\n",
    "        self.name = name\n",
    "        self.address = address\n",
    "        self.contact = contact\n",
    "    \n",
    "    def display_info(self):\n",
    "        return f\"Hi, I'm {self.name}, I live at {self.address}, and my number is {self.contact}.\"\n",
    "    \n",
    "class Customer(Person):\n",
    "    def __init__(self,name,address,contact,customer_id):\n",
    "        super().__init__(name,address,contact)\n",
    "        self.customer_id = customer_id\n",
    "        \n",
    "    def display_info(self):\n",
    "        return super().display_info() + f\" Customer id: {self.customer_id}\"\n",
    "    \n",
    "customer = Customer(\"John\",'1 Orange street','0605925732',15)"
   ]
  },
  {
   "cell_type": "code",
   "execution_count": 24,
   "id": "dadb6d88",
   "metadata": {},
   "outputs": [
    {
     "name": "stdout",
     "output_type": "stream",
     "text": [
      "Hi, I'm John, I live at 1 Orange street, and my number is 0605925732. Customer id: 15\n"
     ]
    }
   ],
   "source": [
    "print(customer.display_info())"
   ]
  },
  {
   "cell_type": "markdown",
   "id": "34579667",
   "metadata": {},
   "source": [
    "## Abstract Class\n",
    "An abstract class in OOP is a class that cannot be instantiated on its own and is meant to be a blueprint for other classes. It can contain abstract methods (methods without implementation) that must be implemented by subclasses."
   ]
  },
  {
   "cell_type": "markdown",
   "id": "31b4a596",
   "metadata": {},
   "source": [
    "### Exercise 1:\n",
    "* Implement abstract class `Employee` with abstract method `work`. \n",
    "* Subclass it with `Developer` and `Manager` and implement `work`."
   ]
  },
  {
   "cell_type": "code",
   "execution_count": 33,
   "id": "ccb52d62",
   "metadata": {},
   "outputs": [],
   "source": [
    "from abc import ABC, abstractmethod\n",
    "class Employee(ABC):\n",
    "    @abstractmethod\n",
    "    def work(self):\n",
    "        pass\n",
    "    \n",
    "class Developer(Employee):\n",
    "    def work(self):\n",
    "        return 'Write code'\n",
    "    \n",
    "class Manager(Employee):\n",
    "    def work(self):\n",
    "        return 'Manage developers'\n",
    "    \n",
    "def job(worker):\n",
    "    return worker.work()\n",
    "\n"
   ]
  },
  {
   "cell_type": "code",
   "execution_count": 28,
   "id": "62de295b",
   "metadata": {},
   "outputs": [],
   "source": [
    "manager = Manager()\n",
    "developer = Developer()\n"
   ]
  },
  {
   "cell_type": "code",
   "execution_count": 34,
   "id": "63404d20",
   "metadata": {},
   "outputs": [
    {
     "name": "stdout",
     "output_type": "stream",
     "text": [
      "Manage developers\n",
      "Write code\n"
     ]
    }
   ],
   "source": [
    "print(job(manager))\n",
    "print(job(developer))"
   ]
  },
  {
   "cell_type": "markdown",
   "id": "3af465de",
   "metadata": {},
   "source": [
    "### Exercise 2:\n",
    "* Create abstract class `Vehicle` with abstract method `move`. \n",
    "* Implement `Car` and `Bicycle` subclasses."
   ]
  },
  {
   "cell_type": "code",
   "execution_count": 30,
   "id": "63f11a27",
   "metadata": {},
   "outputs": [],
   "source": [
    "from abc import ABC, abstractmethod\n",
    "class Vehichle(ABC):\n",
    "    @abstractmethod\n",
    "    def move(self):\n",
    "        pass\n",
    "    \n",
    "class Car(Vehicle):\n",
    "    def move(self):\n",
    "        return \"Car is driving\"\n",
    "    \n",
    "class Bicycle(Vehicle):\n",
    "    def move(self):\n",
    "        return 'Bicycle is moving'\n",
    "    \n",
    "def move(vehicle):\n",
    "    return vehicle.move()"
   ]
  },
  {
   "cell_type": "code",
   "execution_count": 31,
   "id": "5cdd2428",
   "metadata": {},
   "outputs": [],
   "source": [
    "bicycle = Bicycle()\n",
    "car = Car()"
   ]
  },
  {
   "cell_type": "code",
   "execution_count": 32,
   "id": "91537acc",
   "metadata": {},
   "outputs": [
    {
     "name": "stdout",
     "output_type": "stream",
     "text": [
      "Car is driving\n",
      "Bicycle is moving\n"
     ]
    }
   ],
   "source": [
    "print(move(car))\n",
    "print(move(bicycle))"
   ]
  },
  {
   "cell_type": "markdown",
   "id": "076dd8c6",
   "metadata": {},
   "source": [
    "### Exercise 3:\n",
    "* Implement abstract class `Payment` with abstract method `pay`. \n",
    "* Create `CreditCardPayment` and `PayPalPayment` subclasses."
   ]
  },
  {
   "cell_type": "code",
   "execution_count": 35,
   "id": "98a9f25f",
   "metadata": {},
   "outputs": [],
   "source": [
    "from abc import ABC, abstractmethod\n",
    "class Payment(ABC):\n",
    "    @abstractmethod\n",
    "    def pay(self):\n",
    "        pass\n",
    "    \n",
    "class CreditCardPayment(Payment):\n",
    "    def pay(self):\n",
    "        return 'Credit card payment'\n",
    "\n",
    "class PayPalPayment(Payment):\n",
    "    def pay(self):\n",
    "        return 'PayPal payment'\n",
    "    \n",
    "def payment(payment):\n",
    "    return payment.pay()"
   ]
  },
  {
   "cell_type": "code",
   "execution_count": 36,
   "id": "eb25d7cd",
   "metadata": {},
   "outputs": [],
   "source": [
    "paypal = PayPalPayment()\n",
    "credit = CreditCardPayment()"
   ]
  },
  {
   "cell_type": "code",
   "execution_count": 37,
   "id": "9179c9a4",
   "metadata": {},
   "outputs": [
    {
     "name": "stdout",
     "output_type": "stream",
     "text": [
      "PayPal payment\n",
      "Credit card payment\n"
     ]
    }
   ],
   "source": [
    "print(payment(paypal))\n",
    "print(payment(credit))"
   ]
  },
  {
   "cell_type": "markdown",
   "id": "455c2c68",
   "metadata": {},
   "source": [
    "### Exercise 4:\n",
    "* Create abstract class `Notification` with abstract method `send`. \n",
    "* Implement `EmailNotification` and `SMSNotification`."
   ]
  },
  {
   "cell_type": "code",
   "execution_count": 38,
   "id": "ff5d08dd",
   "metadata": {},
   "outputs": [],
   "source": [
    "from abc import ABC, abstractmethod\n",
    "class Notification(ABC):\n",
    "    @abstractmethod\n",
    "    def send(self):\n",
    "        pass\n",
    "    \n",
    "class EmailNotification(Notification):\n",
    "    def send(self):\n",
    "        return 'Email'\n",
    "    \n",
    "class SMSNotification(Notification):\n",
    "    def send(self):\n",
    "        return 'SMS'\n",
    "    \n",
    "def notification_type(notification):\n",
    "    return notification.send()"
   ]
  },
  {
   "cell_type": "code",
   "execution_count": 39,
   "id": "3ae87e88",
   "metadata": {},
   "outputs": [],
   "source": [
    "sms = SMSNotification()\n",
    "email = EmailNotification()"
   ]
  },
  {
   "cell_type": "code",
   "execution_count": 40,
   "id": "a292cb42",
   "metadata": {},
   "outputs": [
    {
     "name": "stdout",
     "output_type": "stream",
     "text": [
      "SMS\n",
      "Email\n"
     ]
    }
   ],
   "source": [
    "print(notification_type(sms))\n",
    "print(notification_type(email))"
   ]
  },
  {
   "cell_type": "markdown",
   "id": "6b4e8375",
   "metadata": {},
   "source": [
    "## Metaclasses\n",
    "A metaclass is a `“class of a class” `— it defines how classes themselves are created, not instances of the class."
   ]
  },
  {
   "cell_type": "markdown",
   "id": "672b9d9b",
   "metadata": {},
   "source": [
    "### Exercise 1:\n",
    "* Create a metaclass `LoggingMeta` that prints \"Creating class `<name>`\" when a class is defined. \n",
    "* Use it for `MyClass`."
   ]
  },
  {
   "cell_type": "code",
   "execution_count": 54,
   "id": "8ade1982",
   "metadata": {},
   "outputs": [
    {
     "name": "stdout",
     "output_type": "stream",
     "text": [
      "Creating class MyClass...\n"
     ]
    }
   ],
   "source": [
    "class LoggingMeta(type):\n",
    "    def __new__(cls,name,bases,dct):\n",
    "        print(f\"Creating class {name}...\")\n",
    "        return super().__new__(cls,name,bases,dct)\n",
    "    \n",
    "        \n",
    "class MyClass(metaclass =LoggingMeta):\n",
    "    def greet(self):\n",
    "        return \"Hello, this is my class\"\n"
   ]
  },
  {
   "cell_type": "code",
   "execution_count": 55,
   "id": "75385ec3",
   "metadata": {},
   "outputs": [
    {
     "name": "stdout",
     "output_type": "stream",
     "text": [
      "Hello, this is my class\n"
     ]
    }
   ],
   "source": [
    "instance1 = MyClass()\n",
    "print(instance1.greet())"
   ]
  },
  {
   "cell_type": "markdown",
   "id": "3b783a67",
   "metadata": {},
   "source": [
    "### Exercise 2:\n",
    "* Create a metaclass `SingletonMeta` that ensures only one instance of a class is created. \n",
    "* Apply it to a `Database` class."
   ]
  },
  {
   "cell_type": "code",
   "execution_count": 90,
   "id": "05436394",
   "metadata": {},
   "outputs": [],
   "source": [
    "class SingletonMeta(type):\n",
    "    _instance = None\n",
    "\n",
    "    def __call__(cls, *args, **kwargs):\n",
    "        if cls._instance is None:\n",
    "            cls._instance = super().__call__(*args, **kwargs)\n",
    "        return cls._instance\n",
    "\n",
    "class Database(metaclass=SingletonMeta):\n",
    "    def create_db(self):\n",
    "        return \"Creating database...\"\n"
   ]
  },
  {
   "cell_type": "code",
   "execution_count": 91,
   "id": "5a06f6a1",
   "metadata": {},
   "outputs": [
    {
     "name": "stdout",
     "output_type": "stream",
     "text": [
      "True\n"
     ]
    }
   ],
   "source": [
    "db1= Database()\n",
    "db2 = Database()\n",
    "print(db1 is db2)\n"
   ]
  },
  {
   "cell_type": "markdown",
   "id": "7c81a1d0",
   "metadata": {},
   "source": [
    "### Exercise 3:\n",
    "* Implement a metaclass `AttributesMeta` that prints all class attributes when the class is initialized."
   ]
  },
  {
   "cell_type": "code",
   "execution_count": null,
   "id": "b654de05",
   "metadata": {},
   "outputs": [
    {
     "name": "stdout",
     "output_type": "stream",
     "text": [
      "Initializing class MyClass with attributes:\n",
      "  x = 10\n",
      "  y = Hello\n",
      "Initializing class AnotherClass with attributes:\n",
      "  name = Timi\n",
      "  age = 20\n"
     ]
    }
   ],
   "source": [
    "class AttributesMeta(type):\n",
    "    def __init__(cls, name, bases, dct):\n",
    "        print(f\"Initializing class {name} with attributes:\")\n",
    "        for attr, value in dct.items():\n",
    "            if not attr.startswith(\"__\"): \n",
    "                print(f\"  {attr} = {value}\")\n",
    "        super().__init__(name, bases, dct)\n",
    "\n",
    "class MyClass(metaclass=AttributesMeta):\n",
    "    x = 10\n",
    "    y = \"Hello\"\n",
    "\n",
    "class AnotherClass(metaclass=AttributesMeta):\n",
    "    name = \"Timi\"\n",
    "    age = 20\n"
   ]
  },
  {
   "cell_type": "code",
   "execution_count": null,
   "id": "4a10c9a4",
   "metadata": {},
   "outputs": [
    {
     "name": "stdout",
     "output_type": "stream",
     "text": [
      "Initializing class: MyClass with attributes: \n",
      " name = Timi\n",
      " age = 0\n"
     ]
    }
   ],
   "source": [
    "class AttributesMeta(type):\n",
    "    def __init__(cls,name,bases,dct):\n",
    "        print(f\"Initializing class: {name} with attributes: \")\n",
    "        for attr,value in dct.items():\n",
    "            if not attr.startswith('__'):\n",
    "                print(f\" {attr} = {value}\")\n",
    "        super().__init__(name,bases,dct)\n",
    "    \n",
    "class MyClass(metaclass = AttributesMeta):\n",
    "        name = 'Timi'\n",
    "        age = 0"
   ]
  }
 ],
 "metadata": {
  "kernelspec": {
   "display_name": "Desktop",
   "language": "python",
   "name": "python3"
  },
  "language_info": {
   "codemirror_mode": {
    "name": "ipython",
    "version": 3
   },
   "file_extension": ".py",
   "mimetype": "text/x-python",
   "name": "python",
   "nbconvert_exporter": "python",
   "pygments_lexer": "ipython3",
   "version": "3.12.5"
  }
 },
 "nbformat": 4,
 "nbformat_minor": 5
}
